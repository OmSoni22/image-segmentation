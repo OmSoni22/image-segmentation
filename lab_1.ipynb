{
 "cells": [
  {
   "cell_type": "code",
   "execution_count": 1,
   "metadata": {},
   "outputs": [],
   "source": [
    "import cv2\n",
    "\n",
    "img_path = \"/home/hardik/Desktop/Sat_unet/Dataset/train_set/masks/119_mask.png\"\n",
    "\n",
    "img = cv2.imread(img_path)\n",
    "\n"
   ]
  },
  {
   "cell_type": "markdown",
   "metadata": {},
   "source": [
    "Dataset Category wise"
   ]
  },
  {
   "cell_type": "code",
   "execution_count": 8,
   "metadata": {},
   "outputs": [
    {
     "name": "stderr",
     "output_type": "stream",
     "text": [
      " 32%|███▏      | 256/803 [01:10<02:30,  3.63it/s]\n"
     ]
    },
    {
     "ename": "KeyboardInterrupt",
     "evalue": "",
     "output_type": "error",
     "traceback": [
      "\u001b[0;31m---------------------------------------------------------------------------\u001b[0m",
      "\u001b[0;31mKeyboardInterrupt\u001b[0m                         Traceback (most recent call last)",
      "Cell \u001b[0;32mIn[8], line 25\u001b[0m\n\u001b[1;32m     22\u001b[0m mask \u001b[38;5;241m=\u001b[39m img\u001b[38;5;241m==\u001b[39mi\n\u001b[1;32m     23\u001b[0m mask \u001b[38;5;241m=\u001b[39m mask\u001b[38;5;241m.\u001b[39mastype(np\u001b[38;5;241m.\u001b[39muint8)\n\u001b[0;32m---> 25\u001b[0m \u001b[43mcv2\u001b[49m\u001b[38;5;241;43m.\u001b[39;49m\u001b[43mimwrite\u001b[49m\u001b[43m(\u001b[49m\u001b[43mmask_path\u001b[49m\u001b[43m,\u001b[49m\u001b[43m \u001b[49m\u001b[43mmask\u001b[49m\u001b[43m)\u001b[49m      \n",
      "\u001b[0;31mKeyboardInterrupt\u001b[0m: "
     ]
    }
   ],
   "source": [
    "import numpy as np\n",
    "import os\n",
    "from tqdm import tqdm\n",
    "\n",
    "mask_dir = \"/home/hardik/Desktop/Sat_unet/Dataset/train_set/masks/\"\n",
    "new_mask_dir = \"/home/hardik/Desktop/Sat_unet/Dataset/train_set/new_masks/\"\n",
    "\n",
    "classes = ['urban_land', 'agriculture_land', 'rangeland', 'forest_land', 'water', 'barren_land', 'unknown']\n",
    "\n",
    "for file in tqdm(os.listdir(mask_dir)):\n",
    "\n",
    "    img_name = file.split('_')[0]+'.png'\n",
    "    img_path = os.path.join(mask_dir, file)\n",
    "\n",
    "    img = cv2.imread(img_path)\n",
    "\n",
    "    for i, cls in enumerate(classes):\n",
    "\n",
    "        cls_dir = os.path.join(new_mask_dir, cls)\n",
    "\n",
    "        os.makedirs(cls_dir, exist_ok=True)\n",
    "\n",
    "        mask_path = os.path.join(cls_dir, img_name)\n",
    "        mask = img==i\n",
    "        mask = mask.astype(np.uint8)\n",
    "\n",
    "        cv2.imwrite(mask_path, mask)      \n"
   ]
  },
  {
   "cell_type": "code",
   "execution_count": null,
   "metadata": {},
   "outputs": [],
   "source": []
  }
 ],
 "metadata": {
  "kernelspec": {
   "display_name": "env",
   "language": "python",
   "name": "python3"
  },
  "language_info": {
   "codemirror_mode": {
    "name": "ipython",
    "version": 3
   },
   "file_extension": ".py",
   "mimetype": "text/x-python",
   "name": "python",
   "nbconvert_exporter": "python",
   "pygments_lexer": "ipython3",
   "version": "3.8.16"
  }
 },
 "nbformat": 4,
 "nbformat_minor": 2
}
